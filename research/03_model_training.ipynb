{
 "cells": [
  {
   "cell_type": "code",
   "execution_count": 3,
   "metadata": {},
   "outputs": [],
   "source": [
    "import os"
   ]
  },
  {
   "cell_type": "code",
   "execution_count": 4,
   "metadata": {},
   "outputs": [
    {
     "data": {
      "text/plain": [
       "'/home/fintechsys/MLflow projects/kidney-Disease-classification-Deep-Learning--project/research'"
      ]
     },
     "execution_count": 4,
     "metadata": {},
     "output_type": "execute_result"
    }
   ],
   "source": [
    "%pwd"
   ]
  },
  {
   "cell_type": "code",
   "execution_count": 5,
   "metadata": {},
   "outputs": [],
   "source": [
    "os.chdir('../')"
   ]
  },
  {
   "cell_type": "code",
   "execution_count": 6,
   "metadata": {},
   "outputs": [
    {
     "data": {
      "text/plain": [
       "'/home/fintechsys/MLflow projects/kidney-Disease-classification-Deep-Learning--project'"
      ]
     },
     "execution_count": 6,
     "metadata": {},
     "output_type": "execute_result"
    }
   ],
   "source": [
    "%pwd"
   ]
  },
  {
   "cell_type": "markdown",
   "metadata": {},
   "source": [
    "# Update entity"
   ]
  },
  {
   "cell_type": "code",
   "execution_count": 7,
   "metadata": {},
   "outputs": [],
   "source": [
    "from dataclasses import dataclass\n",
    "from pathlib import Path\n",
    "\n",
    "\n",
    "@dataclass(frozen=True)\n",
    "class TrainingConfig:\n",
    "    root_dir: Path\n",
    "    trained_model_path: Path\n",
    "    updated_base_model_path: Path\n",
    "    training_data: Path\n",
    "    params_epochs: int\n",
    "    params_batch_size: int\n",
    "    params_is_augmentation: bool\n",
    "    params_image_size: list\n"
   ]
  },
  {
   "cell_type": "markdown",
   "metadata": {},
   "source": [
    "# Update configuration"
   ]
  },
  {
   "cell_type": "code",
   "execution_count": 8,
   "metadata": {},
   "outputs": [
    {
     "name": "stderr",
     "output_type": "stream",
     "text": [
      "2024-02-13 22:45:39.495066: I tensorflow/tsl/cuda/cudart_stub.cc:28] Could not find cuda drivers on your machine, GPU will not be used.\n",
      "2024-02-13 22:45:39.535090: I tensorflow/tsl/cuda/cudart_stub.cc:28] Could not find cuda drivers on your machine, GPU will not be used.\n",
      "2024-02-13 22:45:39.535872: I tensorflow/core/platform/cpu_feature_guard.cc:182] This TensorFlow binary is optimized to use available CPU instructions in performance-critical operations.\n",
      "To enable the following instructions: AVX2 FMA, in other operations, rebuild TensorFlow with the appropriate compiler flags.\n",
      "2024-02-13 22:45:40.294376: W tensorflow/compiler/tf2tensorrt/utils/py_utils.cc:38] TF-TRT Warning: Could not find TensorRT\n"
     ]
    }
   ],
   "source": [
    "from cnnClassifier.constants import *\n",
    "from cnnClassifier.utils.common import read_yaml, create_directories\n",
    "import tensorflow as tf\n",
    "from tensorflow.keras.callbacks import ModelCheckpoint, EarlyStopping, ReduceLROnPlateau, TensorBoard\n",
    "from datetime import datetime"
   ]
  },
  {
   "cell_type": "code",
   "execution_count": 9,
   "metadata": {},
   "outputs": [],
   "source": [
    "class ConfigurationManager:\n",
    "    def __init__(\n",
    "        self,\n",
    "        config_filepath = CONFIG_FILE_PATH,\n",
    "        params_filepath = PARAMS_FILE_PATH):\n",
    "\n",
    "        self.config = read_yaml(config_filepath)\n",
    "        self.params = read_yaml(params_filepath)\n",
    "\n",
    "        create_directories([self.config.artifacts_root])\n",
    "\n",
    "\n",
    "    \n",
    "    def get_training_config(self) -> TrainingConfig:\n",
    "        training = self.config.training\n",
    "        prepare_base_model = self.config.prepare_base_model\n",
    "        params = self.params\n",
    "        # training_data = os.path.join(self.config.data_ingestion.unzip_dir, \"Norpeat liveness dataset\")\n",
    "        training_data = self.config.data_preprocessing.root_dir\n",
    "        create_directories([\n",
    "            Path(training.root_dir)\n",
    "        ])\n",
    "\n",
    "        training_config = TrainingConfig(\n",
    "            root_dir=Path(training.root_dir),\n",
    "            trained_model_path=Path(training.trained_model_path),\n",
    "            updated_base_model_path=Path(prepare_base_model.updated_base_model_path),\n",
    "            training_data=Path(training_data),\n",
    "            params_epochs=params.EPOCHS,\n",
    "            params_batch_size=params.BATCH_SIZE,\n",
    "            params_is_augmentation=params.AUGMENTATION,\n",
    "            params_image_size=params.IMAGE_SIZE\n",
    "        )\n",
    "\n",
    "        return training_config"
   ]
  },
  {
   "cell_type": "markdown",
   "metadata": {},
   "source": [
    "# Update componentS"
   ]
  },
  {
   "cell_type": "code",
   "execution_count": 10,
   "metadata": {},
   "outputs": [],
   "source": [
    "import os\n",
    "import urllib.request as request\n",
    "from zipfile import ZipFile\n",
    "import tensorflow as tf\n",
    "import time"
   ]
  },
  {
   "cell_type": "code",
   "execution_count": 11,
   "metadata": {},
   "outputs": [],
   "source": [
    "class Training:\n",
    "    def __init__(self, config: TrainingConfig):\n",
    "        self.config = config\n",
    "\n",
    "\n",
    "    def get_base_model(self):\n",
    "        self.model = tf.keras.models.load_model(\n",
    "            self.config.updated_base_model_path\n",
    "        )\n",
    "\n",
    "\n",
    "    def train_valid_generator(self):\n",
    "        datagenerator_kwargs = dict(\n",
    "            rescale=1./255,\n",
    "            validation_split=0.20\n",
    "            # Removed class_mode='binary' from here\n",
    "        )\n",
    "\n",
    "        dataflow_kwargs = dict(\n",
    "            target_size=self.config.params_image_size[:-1],\n",
    "            batch_size=self.config.params_batch_size,\n",
    "            interpolation=\"bilinear\",\n",
    "            class_mode='binary'  # Moved class_mode here, applicable for both training and validation\n",
    "        )\n",
    "\n",
    "        valid_datagenerator = tf.keras.preprocessing.image.ImageDataGenerator(**datagenerator_kwargs)\n",
    "        self.valid_generator = valid_datagenerator.flow_from_directory(\n",
    "            directory=self.config.training_data,\n",
    "            subset=\"validation\",\n",
    "            shuffle=False,\n",
    "            **dataflow_kwargs  # class_mode='binary' is now correctly included here\n",
    "        )\n",
    "\n",
    "        if self.config.params_is_augmentation:\n",
    "            train_datagenerator = tf.keras.preprocessing.image.ImageDataGenerator(\n",
    "            rescale=1./255,  # Normalize images\n",
    "            horizontal_flip=True,  # Randomly flip images horizontally (realistic for faces)\n",
    "            width_shift_range=0.1,  # Randomly translate images horizontally by up to 10%\n",
    "            height_shift_range=0.1,  # Randomly translate images vertically by up to 10%\n",
    "            brightness_range=[0.8, 1.2],  # Randomly adjust brightness (80-120% of the original value)\n",
    "            zoom_range=0.2,  # Randomly zoom in and out on images (80-120% zoom), can be useful for faces\n",
    "            fill_mode='nearest'  # Strategy to fill newly created pixels, which can appear after a shift or a zoom\n",
    "            # Avoid using vertical_flip=True for face images\n",
    "            )\n",
    "        else:\n",
    "            train_datagenerator = valid_datagenerator\n",
    "\n",
    "        self.train_generator = train_datagenerator.flow_from_directory(\n",
    "            directory=self.config.training_data,\n",
    "            subset=\"training\",\n",
    "            shuffle=True,\n",
    "            **dataflow_kwargs\n",
    "        )\n",
    "\n",
    "\n",
    "    @staticmethod\n",
    "    def save_model(path: Path, model: tf.keras.Model):\n",
    "        model.save(path)\n",
    "\n",
    "\n",
    "    def train(self):\n",
    "        self.steps_per_epoch = self.train_generator.samples // self.train_generator.batch_size\n",
    "        self.validation_steps = self.valid_generator.samples // self.valid_generator.batch_size\n",
    "\n",
    "        # Callbacks\n",
    "        checkpoint_path = str(self.config.root_dir / \"best_model.h5\")\n",
    "        log_dir = \"logs/fit/\" + datetime.now().strftime(\"%Y%m%d-%H%M%S\")\n",
    "\n",
    "        callbacks = [\n",
    "            ModelCheckpoint(\n",
    "                filepath=checkpoint_path,\n",
    "                save_best_only=True,\n",
    "                monitor='val_loss',\n",
    "                mode='min',\n",
    "                verbose=1\n",
    "            ),\n",
    "            EarlyStopping(\n",
    "                monitor='val_loss',\n",
    "                patience=10,\n",
    "                verbose=1,\n",
    "                restore_best_weights=True\n",
    "            ),\n",
    "            ReduceLROnPlateau(\n",
    "                monitor='val_loss',\n",
    "                factor=0.1,\n",
    "                patience=5,\n",
    "                verbose=1,\n",
    "                mode='min',\n",
    "                min_delta=0.0001,\n",
    "                cooldown=0,\n",
    "                min_lr=0\n",
    "            ),\n",
    "            TensorBoard(\n",
    "                log_dir=log_dir,\n",
    "                histogram_freq=1\n",
    "            )\n",
    "        ]\n",
    "\n",
    "        # Training\n",
    "        self.model.fit(\n",
    "            self.train_generator,\n",
    "            epochs=self.config.params_epochs,\n",
    "            steps_per_epoch=self.steps_per_epoch,\n",
    "            validation_steps=self.validation_steps,\n",
    "            validation_data=self.valid_generator,\n",
    "            callbacks=callbacks  # Add the callbacks here\n",
    "        )\n",
    "\n",
    "        # Save the final model\n",
    "        self.save_model(\n",
    "            path=self.config.trained_model_path,\n",
    "            model=self.model\n",
    "        )"
   ]
  },
  {
   "cell_type": "markdown",
   "metadata": {},
   "source": [
    "# Create pipeline"
   ]
  },
  {
   "cell_type": "code",
   "execution_count": 12,
   "metadata": {},
   "outputs": [
    {
     "name": "stdout",
     "output_type": "stream",
     "text": [
      "[2024-02-13 22:45:46,555: INFO: common: yaml file: config/config.yaml loaded successfully]\n",
      "[2024-02-13 22:45:46,558: INFO: common: yaml file: params.yaml loaded successfully]\n",
      "[2024-02-13 22:45:46,559: INFO: common: created directory at: artifacts]\n",
      "[2024-02-13 22:45:46,560: INFO: common: created directory at: artifacts/training]\n"
     ]
    },
    {
     "name": "stderr",
     "output_type": "stream",
     "text": [
      "2024-02-13 22:45:46.609553: I tensorflow/compiler/xla/stream_executor/cuda/cuda_gpu_executor.cc:996] successful NUMA node read from SysFS had negative value (-1), but there must be at least one NUMA node, so returning NUMA node zero. See more at https://github.com/torvalds/linux/blob/v6.0/Documentation/ABI/testing/sysfs-bus-pci#L344-L355\n",
      "2024-02-13 22:45:46.610300: W tensorflow/core/common_runtime/gpu/gpu_device.cc:1956] Cannot dlopen some GPU libraries. Please make sure the missing libraries mentioned above are installed properly if you would like to use GPU. Follow the guide at https://www.tensorflow.org/install/gpu for how to download and setup the required libraries for your platform.\n",
      "Skipping registering GPU devices...\n"
     ]
    },
    {
     "name": "stdout",
     "output_type": "stream",
     "text": [
      "Found 790 images belonging to 2 classes.\n",
      "Found 3168 images belonging to 2 classes.\n",
      "Epoch 1/10\n"
     ]
    },
    {
     "name": "stderr",
     "output_type": "stream",
     "text": [
      "2024-02-13 22:45:47.368122: I tensorflow/core/common_runtime/executor.cc:1197] [/device:CPU:0] (DEBUG INFO) Executor start aborting (this does not indicate an error and you can ignore this message): INVALID_ARGUMENT: You must feed a value for placeholder tensor 'Placeholder/_0' with dtype int32\n",
      "\t [[{{node Placeholder/_0}}]]\n",
      "2024-02-13 22:45:47.846908: W tensorflow/tsl/framework/cpu_allocator_impl.cc:83] Allocation of 205520896 exceeds 10% of free system memory.\n",
      "2024-02-13 22:45:47.917735: W tensorflow/tsl/framework/cpu_allocator_impl.cc:83] Allocation of 205520896 exceeds 10% of free system memory.\n"
     ]
    },
    {
     "name": "stdout",
     "output_type": "stream",
     "text": [
      "  1/198 [..............................] - ETA: 9:45 - loss: 0.7979 - accuracy: 0.5000"
     ]
    },
    {
     "name": "stderr",
     "output_type": "stream",
     "text": [
      "2024-02-13 22:45:50.361493: W tensorflow/tsl/framework/cpu_allocator_impl.cc:83] Allocation of 205520896 exceeds 10% of free system memory.\n",
      "2024-02-13 22:45:50.422040: W tensorflow/tsl/framework/cpu_allocator_impl.cc:83] Allocation of 205520896 exceeds 10% of free system memory.\n"
     ]
    },
    {
     "name": "stdout",
     "output_type": "stream",
     "text": [
      "  2/198 [..............................] - ETA: 8:10 - loss: 4.5952 - accuracy: 0.4375"
     ]
    },
    {
     "name": "stderr",
     "output_type": "stream",
     "text": [
      "2024-02-13 22:45:52.862284: W tensorflow/tsl/framework/cpu_allocator_impl.cc:83] Allocation of 205520896 exceeds 10% of free system memory.\n"
     ]
    },
    {
     "name": "stdout",
     "output_type": "stream",
     "text": [
      "198/198 [==============================] - ETA: 0s - loss: 3.9354 - accuracy: 0.8242"
     ]
    },
    {
     "name": "stderr",
     "output_type": "stream",
     "text": [
      "2024-02-13 22:52:21.859854: I tensorflow/core/common_runtime/executor.cc:1197] [/device:CPU:0] (DEBUG INFO) Executor start aborting (this does not indicate an error and you can ignore this message): INVALID_ARGUMENT: You must feed a value for placeholder tensor 'Placeholder/_0' with dtype int32\n",
      "\t [[{{node Placeholder/_0}}]]\n"
     ]
    },
    {
     "name": "stdout",
     "output_type": "stream",
     "text": [
      "\n",
      "Epoch 1: val_accuracy improved from inf to 0.57908, saving model to artifacts/training/best_model.h5\n",
      "198/198 [==============================] - 510s 3s/step - loss: 3.9354 - accuracy: 0.8242 - val_loss: 9.2291 - val_accuracy: 0.5791 - lr: 0.0100\n",
      "Epoch 2/10\n",
      "198/198 [==============================] - ETA: 0s - loss: 1.6261 - accuracy: 0.8823\n",
      "Epoch 2: val_accuracy did not improve from 0.57908\n",
      "198/198 [==============================] - 373s 2s/step - loss: 1.6261 - accuracy: 0.8823 - val_loss: 1.8774 - val_accuracy: 0.8253 - lr: 0.0100\n",
      "Epoch 3/10\n",
      "198/198 [==============================] - ETA: 0s - loss: 1.7918 - accuracy: 0.8848\n",
      "Epoch 3: val_accuracy did not improve from 0.57908\n",
      "198/198 [==============================] - 409s 2s/step - loss: 1.7918 - accuracy: 0.8848 - val_loss: 3.9675 - val_accuracy: 0.7717 - lr: 0.0100\n",
      "Epoch 4/10\n",
      "198/198 [==============================] - ETA: 0s - loss: 2.0541 - accuracy: 0.8870\n",
      "Epoch 4: val_accuracy did not improve from 0.57908\n",
      "198/198 [==============================] - 414s 2s/step - loss: 2.0541 - accuracy: 0.8870 - val_loss: 3.5378 - val_accuracy: 0.7143 - lr: 0.0100\n",
      "Epoch 5/10\n",
      "198/198 [==============================] - ETA: 0s - loss: 0.9887 - accuracy: 0.9198\n",
      "Epoch 5: val_accuracy did not improve from 0.57908\n",
      "198/198 [==============================] - 414s 2s/step - loss: 0.9887 - accuracy: 0.9198 - val_loss: 2.9456 - val_accuracy: 0.7538 - lr: 0.0100\n",
      "Epoch 6/10\n",
      "198/198 [==============================] - ETA: 0s - loss: 1.3763 - accuracy: 0.9126\n",
      "Epoch 6: val_accuracy did not improve from 0.57908\n",
      "198/198 [==============================] - 418s 2s/step - loss: 1.3763 - accuracy: 0.9126 - val_loss: 2.0109 - val_accuracy: 0.8546 - lr: 0.0100\n",
      "Epoch 7/10\n",
      "198/198 [==============================] - ETA: 0s - loss: 0.8586 - accuracy: 0.9334\n",
      "Epoch 7: val_accuracy did not improve from 0.57908\n",
      "\n",
      "Epoch 7: ReduceLROnPlateau reducing learning rate to 0.0009999999776482583.\n",
      "198/198 [==============================] - 433s 2s/step - loss: 0.8586 - accuracy: 0.9334 - val_loss: 3.4957 - val_accuracy: 0.8189 - lr: 0.0100\n",
      "Epoch 8/10\n",
      "198/198 [==============================] - ETA: 0s - loss: 0.2963 - accuracy: 0.9672\n",
      "Epoch 8: val_accuracy did not improve from 0.57908\n",
      "198/198 [==============================] - 330s 2s/step - loss: 0.2963 - accuracy: 0.9672 - val_loss: 3.1832 - val_accuracy: 0.8112 - lr: 1.0000e-03\n",
      "Epoch 9/10\n",
      "198/198 [==============================] - ETA: 0s - loss: 0.2131 - accuracy: 0.9732\n",
      "Epoch 9: val_accuracy did not improve from 0.57908\n",
      "198/198 [==============================] - 328s 2s/step - loss: 0.2131 - accuracy: 0.9732 - val_loss: 3.2868 - val_accuracy: 0.7997 - lr: 1.0000e-03\n",
      "Epoch 10/10\n",
      "198/198 [==============================] - ETA: 0s - loss: 0.1739 - accuracy: 0.9779\n",
      "Epoch 10: val_accuracy did not improve from 0.57908\n",
      "198/198 [==============================] - 329s 2s/step - loss: 0.1739 - accuracy: 0.9779 - val_loss: 4.0629 - val_accuracy: 0.7883 - lr: 1.0000e-03\n"
     ]
    }
   ],
   "source": [
    "try:\n",
    "    config = ConfigurationManager()\n",
    "    training_config = config.get_training_config()\n",
    "    training = Training(config=training_config)\n",
    "    training.get_base_model()\n",
    "    training.train_valid_generator()\n",
    "    training.train()\n",
    "    \n",
    "except Exception as e:\n",
    "    raise e"
   ]
  },
  {
   "cell_type": "code",
   "execution_count": null,
   "metadata": {},
   "outputs": [],
   "source": []
  }
 ],
 "metadata": {
  "kernelspec": {
   "display_name": "kidney",
   "language": "python",
   "name": "python3"
  },
  "language_info": {
   "codemirror_mode": {
    "name": "ipython",
    "version": 3
   },
   "file_extension": ".py",
   "mimetype": "text/x-python",
   "name": "python",
   "nbconvert_exporter": "python",
   "pygments_lexer": "ipython3",
   "version": "3.8.18"
  }
 },
 "nbformat": 4,
 "nbformat_minor": 2
}
