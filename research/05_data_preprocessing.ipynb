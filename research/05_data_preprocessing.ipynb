{
 "cells": [
  {
   "cell_type": "code",
   "execution_count": 1,
   "metadata": {},
   "outputs": [],
   "source": [
    "import os"
   ]
  },
  {
   "cell_type": "code",
   "execution_count": 2,
   "metadata": {},
   "outputs": [
    {
     "data": {
      "text/plain": [
       "'/home/fintechsys/MLflow projects/kidney-Disease-classification-Deep-Learning--project/research'"
      ]
     },
     "execution_count": 2,
     "metadata": {},
     "output_type": "execute_result"
    }
   ],
   "source": [
    "%pwd"
   ]
  },
  {
   "cell_type": "code",
   "execution_count": 3,
   "metadata": {},
   "outputs": [],
   "source": [
    "os.chdir(\"../\")"
   ]
  },
  {
   "cell_type": "code",
   "execution_count": 4,
   "metadata": {},
   "outputs": [
    {
     "data": {
      "text/plain": [
       "'/home/fintechsys/MLflow projects/kidney-Disease-classification-Deep-Learning--project'"
      ]
     },
     "execution_count": 4,
     "metadata": {},
     "output_type": "execute_result"
    }
   ],
   "source": [
    "%pwd"
   ]
  },
  {
   "cell_type": "code",
   "execution_count": 5,
   "metadata": {},
   "outputs": [],
   "source": [
    "from dataclasses import dataclass\n",
    "from pathlib import Path\n",
    "\n",
    "# using @dataclass so the class will be access as variable from other file\n",
    "@dataclass(frozen=True)    \n",
    "class DataPreprocessingConfig:\n",
    "    root_dir: Path\n",
    "    unzip_dir_real: Path\n",
    "    unzip_dir_fake: Path\n",
    "    real_process_imgs: Path\n",
    "    fake_process_imgs: Path"
   ]
  },
  {
   "cell_type": "code",
   "execution_count": 6,
   "metadata": {},
   "outputs": [],
   "source": [
    "from cnnClassifier.constants import *\n",
    "from cnnClassifier.utils.common import read_yaml, create_directories"
   ]
  },
  {
   "cell_type": "code",
   "execution_count": 7,
   "metadata": {},
   "outputs": [],
   "source": [
    "class ConfigurationManager:\n",
    "    def __init__(\n",
    "        self,\n",
    "        config_filepath = CONFIG_FILE_PATH,\n",
    "        params_filepath = PARAMS_FILE_PATH):\n",
    "\n",
    "        self.config = read_yaml(config_filepath)\n",
    "        self.params = read_yaml(params_filepath)\n",
    "\n",
    "    \n",
    "    def get_data_preprocess_config(self) -> DataPreprocessingConfig:\n",
    "        config = self.config.data_preprocessing\n",
    "        create_directories([config.real_process_imgs])\n",
    "        create_directories([config.fake_process_imgs])\n",
    "\n",
    "        create_directories([config.root_dir])\n",
    "\n",
    "        data_preprocessing_config = DataPreprocessingConfig(\n",
    "            root_dir=config.root_dir,\n",
    "            unzip_dir_real=config.unzip_dir_real,\n",
    "            unzip_dir_fake=config.unzip_dir_fake,\n",
    "            real_process_imgs=config.real_process_imgs,\n",
    "            fake_process_imgs = config.fake_process_imgs\n",
    "        )\n",
    "        return data_preprocessing_config"
   ]
  },
  {
   "cell_type": "markdown",
   "metadata": {},
   "source": [
    "# Update components"
   ]
  },
  {
   "cell_type": "code",
   "execution_count": 8,
   "metadata": {},
   "outputs": [],
   "source": [
    "from cnnClassifier import logger\n",
    "from cnnClassifier.utils.common import get_size\n",
    "import os\n",
    "import numpy as np\n",
    "from PIL import Image\n",
    "import cv2\n",
    "from scipy.signal import convolve2d\n",
    "import math"
   ]
  },
  {
   "cell_type": "code",
   "execution_count": 9,
   "metadata": {},
   "outputs": [],
   "source": [
    "class DataPreprocessing:\n",
    "    def __init__(self, config: DataPreprocessingConfig):\n",
    "        self.config = config\n",
    "\n",
    "    def ED_LBP_Sliding_Matrix(self, I, P):\n",
    "        padding_amount = 1\n",
    "        I = np.pad(I, pad_width=padding_amount, mode='constant') #, constant_values=0\n",
    "        K = (2**P) - 1\n",
    "        C_list = self.C_list_calculate(P)\n",
    "        u_fac_matrix = self.u_sliding_factor(I.astype(np.float32), P)\n",
    "        slid_factor = np.zeros((u_fac_matrix.shape),np.float32)\n",
    "        m, n = u_fac_matrix.shape\n",
    "        ED_LBP = np.zeros(u_fac_matrix.shape, np.float32)\n",
    "        ED_LBP_matrix = np.zeros((u_fac_matrix.shape),np.float32)\n",
    "        K_matrix = np.ones(u_fac_matrix.shape).astype(np.float32) * K\n",
    "        offsets = [(0, 1), (0, 2), (1, 2), (2, 2), (2, 1), (2, 0), (1, 0),(0,0)]\n",
    "        count = 1\n",
    "        for offset in offsets:\n",
    "            row_offset, col_offset = offset\n",
    "            sliding_matrix = I[row_offset:row_offset + m, col_offset:col_offset + n].astype(np.float32) - u_fac_matrix.astype(np.float32)\n",
    "            slid_factor = np.maximum(sliding_matrix, 0).astype(np.float32)\n",
    "            k_norm = K_matrix.astype(np.float32) - u_fac_matrix.astype(np.float32)\n",
    "            k_norm_nonzero = np.where(k_norm == 0, 1e-10, k_norm)\n",
    "            A_factor = np.where(k_norm != 0, slid_factor / k_norm_nonzero, 0)\n",
    "            ED_LBP_matrix = (A_factor.astype(np.float32) * C_list[count - 1]) + np.ones(A_factor.shape).astype(np.float32)\n",
    "            ED_LBP += np.where(sliding_matrix >= 0, 2 ** ((count - 1) * ED_LBP_matrix.astype(np.float32)), 0)\n",
    "            count  = count + 1\n",
    "        \n",
    "        ED_LBP = np.where(ED_LBP > 255, 255, np.round(ED_LBP))\n",
    "        return ED_LBP.astype(int)\n",
    "\n",
    "    def C_list_calculate(self, P):\n",
    "        C = []\n",
    "        for count in range(1, 9):\n",
    "            c_value = ((P - count) * (count - 1)) / math.floor(((P - 1) / 2)**2)\n",
    "            C.append(c_value)\n",
    "        return C\n",
    "\n",
    "    def u_sliding_factor(self, image_channel, P):\n",
    "        result = np.zeros(image_channel.shape,np.float32)\n",
    "        window_size = (3, 3)\n",
    "        kernel = np.ones(window_size, np.float32)\n",
    "        kernel[1, 1] = 0\n",
    "        kernel = kernel / (2 * P)\n",
    "        \n",
    "        kernel2 = np.zeros(window_size, np.float32)\n",
    "        kernel2[1, 1] = 1\n",
    "        kernel2 = kernel2 / 2\n",
    "        \n",
    "        convolution_matrix = cv2.filter2D(image_channel, -1, kernel) + cv2.filter2D(image_channel, -1, kernel2)\n",
    "        result = convolution_matrix[1:-1, 1:-1]\n",
    "        return result.astype(np.float32)\n",
    "    def process_and_save_images(self):\n",
    "        real_dir = self.config.unzip_dir_real\n",
    "        fake_dir = self.config.unzip_dir_fake\n",
    "\n",
    "        real_output_dir = self.config.real_process_imgs\n",
    "        fake_output_dir = self.config.fake_process_imgs\n",
    "\n",
    "        os.makedirs(real_output_dir, exist_ok=True)\n",
    "        os.makedirs(fake_output_dir, exist_ok=True)\n",
    "\n",
    "        for input_dir, output_dir in [(real_dir, real_output_dir), (fake_dir, fake_output_dir)]:\n",
    "            for img_name in os.listdir(input_dir):\n",
    "                img_path = os.path.join(input_dir, img_name)\n",
    "                try:\n",
    "                    img = cv2.imread(img_path)\n",
    "                    if img is None:\n",
    "                        print(f\"Error reading image {img_path}\")\n",
    "                        continue\n",
    "\n",
    "                    resized_face = cv2.resize(img, (512, 512))\n",
    "                    face_image_array = np.array(resized_face)\n",
    "                    image_rgb = cv2.cvtColor(face_image_array, cv2.COLOR_BGR2RGB)\n",
    "                    ED_LBP_image = np.zeros((image_rgb.shape), np.int16)\n",
    "                    for i in range(3):\n",
    "                        ED_LBP_image[:, :, i] = self.ED_LBP_Sliding_Matrix(image_rgb[:, :, i].astype(np.int16), 8)\n",
    "\n",
    "                    processed_img_path = os.path.join(output_dir, img_name)\n",
    "                    # Use the corrected method for saving images\n",
    "                    cv2.imwrite(processed_img_path, ED_LBP_image)\n",
    "\n",
    "                except Exception as e:\n",
    "                    print(f\"Error processing image {img_path}: {e}\")"
   ]
  },
  {
   "cell_type": "markdown",
   "metadata": {},
   "source": [
    "# Pipeline"
   ]
  },
  {
   "cell_type": "code",
   "execution_count": 11,
   "metadata": {},
   "outputs": [
    {
     "name": "stdout",
     "output_type": "stream",
     "text": [
      "[2024-02-13 10:55:22,944: INFO: common: yaml file: config/config.yaml loaded successfully]\n",
      "[2024-02-13 10:55:22,946: INFO: common: yaml file: params.yaml loaded successfully]\n",
      "[2024-02-13 10:55:22,947: INFO: common: created directory at: artifacts/data_preprocessing/real]\n",
      "[2024-02-13 10:55:22,948: INFO: common: created directory at: artifacts/data_preprocessing/fake]\n",
      "[2024-02-13 10:55:22,948: INFO: common: created directory at: artifacts/data_preprocessing]\n"
     ]
    }
   ],
   "source": [
    "try:\n",
    "    # Assuming ConfigurationManager and DataPreprocessing are defined elsewhere and properly imported\n",
    "    config = ConfigurationManager()\n",
    "    data_preprocessing_config = config.get_data_preprocess_config()\n",
    "    data_preprocessing = DataPreprocessing(config=data_preprocessing_config)\n",
    "    # Removed the direct call to ED_LBP_Sliding_Matrix() since it's used internally within process_and_save_images()\n",
    "    data_preprocessing.process_and_save_images()\n",
    "except Exception as e:\n",
    "    print(e)  # It's generally a good practice to log the exception.\n",
    "    # Depending on your application, you might want to handle the exception differently.\n"
   ]
  },
  {
   "cell_type": "code",
   "execution_count": null,
   "metadata": {},
   "outputs": [],
   "source": []
  }
 ],
 "metadata": {
  "kernelspec": {
   "display_name": "kidney",
   "language": "python",
   "name": "python3"
  },
  "language_info": {
   "codemirror_mode": {
    "name": "ipython",
    "version": 3
   },
   "file_extension": ".py",
   "mimetype": "text/x-python",
   "name": "python",
   "nbconvert_exporter": "python",
   "pygments_lexer": "ipython3",
   "version": "3.8.18"
  }
 },
 "nbformat": 4,
 "nbformat_minor": 2
}
